{
  "cells": [
    {
      "cell_type": "markdown",
      "metadata": {
        "colab_type": "text",
        "id": "view-in-github"
      },
      "source": [
        "<a href=\"https://colab.research.google.com/github/kumar-shivang/Machine-Learning/blob/main/Week_1_Programming.ipynb\" target=\"_parent\"><img src=\"https://colab.research.google.com/assets/colab-badge.svg\" alt=\"Open In Colab\"/></a>"
      ]
    },
    {
      "cell_type": "markdown",
      "metadata": {
        "id": "53TcQvUOjGxr"
      },
      "source": [
        "# Week-1\n",
        "\n",
        "**Note to Learners**: \n",
        "\n",
        "- Click on \"Copy to Drive\", the button that appears just below the taskbar, to make a copy of this notebook in your drive. If you continue working with this notebook, changes **will not** be saved.\n",
        "\n",
        "\n",
        "- For questions that involve plotting, just enter $0$ as the answer in the portal.\n",
        "- For numerical questions, there are two parts. The first part expects you to compute some quantity, say a parameter of a machine learning model. The second part will require you to convert this quantity (if it is not a scalar) into a scalar so that it can be entered as the answer on the portal to the corresponding NAT question.\n",
        "\n"
      ]
    },
    {
      "cell_type": "markdown",
      "metadata": {
        "id": "I3DzbeU33QxN"
      },
      "source": [
        "## Dataset\n",
        "\n",
        "We will be working with a subset of the [MNIST dataset](https://en.wikipedia.org/wiki/MNIST_database). Run the cell given below to generate the data-matrix $\\mathbf{X}$, which is of shape $(n, d)$, where $n$ denotes the number of samples and $d$ denotes the number of features. You will be using this dataset for the rest of the assignment. Do not edit this cell."
      ]
    },
    {
      "cell_type": "code",
      "execution_count": 1,
      "metadata": {
        "id": "uOBXmnyg3ZFH"
      },
      "outputs": [
        {
          "name": "stderr",
          "output_type": "stream",
          "text": [
            "2023-04-03 19:24:37.212920: I tensorflow/tsl/cuda/cudart_stub.cc:28] Could not find cuda drivers on your machine, GPU will not be used.\n",
            "2023-04-03 19:24:41.150814: I tensorflow/tsl/cuda/cudart_stub.cc:28] Could not find cuda drivers on your machine, GPU will not be used.\n",
            "2023-04-03 19:24:52.180495: W tensorflow/compiler/tf2tensorrt/utils/py_utils.cc:38] TF-TRT Warning: Could not find TensorRT\n"
          ]
        }
      ],
      "source": [
        "##### DATASET GENERATION #####\n",
        "import numpy as np\n",
        "from keras.datasets import mnist\n",
        "(X_train, y_train), (X_test, y_test) = mnist.load_data()\n",
        "X = X_train[y_train == 2][: 100].reshape(-1, 28 * 28)\n",
        "test_image = X_test[y_test == 2][0].reshape(28 * 28)\n",
        "\n",
        "##### DO NOT EDIT THIS CELL #####"
      ]
    },
    {
      "cell_type": "markdown",
      "metadata": {
        "id": "5RyvzK8z4o47"
      },
      "source": [
        "## Problem-1\n",
        "\n",
        "How many samples does the dataset have?"
      ]
    },
    {
      "cell_type": "code",
      "execution_count": 4,
      "metadata": {
        "colab": {
          "base_uri": "https://localhost:8080/"
        },
        "id": "rFXCXoje52x-",
        "outputId": "76034edb-ac03-4a6a-a3af-4fe275ae7593"
      },
      "outputs": [
        {
          "data": {
            "text/plain": [
              "100"
            ]
          },
          "execution_count": 4,
          "metadata": {},
          "output_type": "execute_result"
        }
      ],
      "source": [
        "# Enter your solution here\n",
        "X.shape[0]"
      ]
    },
    {
      "cell_type": "markdown",
      "metadata": {
        "id": "UrmLi2sK4ynX"
      },
      "source": [
        "## Problem-2\n",
        "\n",
        "How many features does the dataset have?"
      ]
    },
    {
      "cell_type": "code",
      "execution_count": 5,
      "metadata": {
        "colab": {
          "base_uri": "https://localhost:8080/"
        },
        "id": "WQ75O4D141R0",
        "outputId": "05973e6f-e10b-4c01-ccbf-d7954c28b03a"
      },
      "outputs": [
        {
          "data": {
            "text/plain": [
              "784"
            ]
          },
          "execution_count": 5,
          "metadata": {},
          "output_type": "execute_result"
        }
      ],
      "source": [
        "# Enter your solution here\n",
        "X.shape[1]"
      ]
    },
    {
      "cell_type": "markdown",
      "metadata": {
        "id": "BPUFxtI55G2h"
      },
      "source": [
        "## Problem-3\n",
        "\n",
        "Each sample corresponds to an image of dimension $28 \\times 28$. Visualize one of these images using the `matplotlib` library. \n",
        "\n",
        "- You need to know how to reshape a feature vector. Refer to week-0 content for the same.\n",
        "- You can refer to the following [document](https://matplotlib.org/stable/tutorials/introductory/images.html#sphx-glr-tutorials-introductory-images-py) for plotting NumPy arrays as images using `matplotlib`."
      ]
    },
    {
      "cell_type": "code",
      "execution_count": 7,
      "metadata": {
        "colab": {
          "base_uri": "https://localhost:8080/",
          "height": 265
        },
        "id": "ExvRNXPZ6246",
        "outputId": "7b2a1407-776b-4cad-d97c-4ed88ccf8ece"
      },
      "outputs": [
        {
          "data": {
            "image/png": "[encoded data removed]",
            "text/plain": [
              "<Figure size 640x480 with 1 Axes>"
            ]
          },
          "metadata": {},
          "output_type": "display_data"
        }
      ],
      "source": [
        "# Enter your solution here\n",
        "import matplotlib.pyplot as plt\n",
        "digit1 = X[0].reshape(28, 28)\n",
        "plt.imshow(digit1, cmap = plt.cm.binary)\n",
        "plt.show()"
      ]
    },
    {
      "cell_type": "markdown",
      "metadata": {
        "id": "8e2xflo8FF8K"
      },
      "source": [
        "## Problem-4\n",
        "\n",
        "Center the the dataset $\\mathbf{X}$ around its mean. Call this centered dataset $\\mathbf{X}^{\\prime}$.\n",
        "\n",
        "<u>Conversion</u>\n",
        "\n",
        "Enter the following quantity as your answer correct to two decimal places:\n",
        "\n",
        "$$\n",
        "\\cfrac{1}{n \\cdot d} \\sqrt{\\sum \\limits_{i = 1}^{n} \\sum \\limits_{j = 1}^{d} (X_{ij}^{\\prime})^2}\n",
        "$$"
      ]
    },
    {
      "cell_type": "code",
      "execution_count": 8,
      "metadata": {
        "colab": {
          "base_uri": "https://localhost:8080/"
        },
        "id": "9uNDPtBjH5Df",
        "outputId": "9c4814bb-93b8-420f-dc33-ab70c66fa5a9"
      },
      "outputs": [
        {
          "name": "stdout",
          "output_type": "stream",
          "text": [
            "0.23242174456564954\n",
            "0.23242174456564685\n"
          ]
        }
      ],
      "source": [
        "# Enter your solution here\n",
        "X_mean = np.mean(X,axis=0)\n",
        "X_center = X - X_mean\n",
        "X_center.shape\n",
        "sqr_sum = 0\n",
        "for i in range(100):\n",
        "  for j in range(784):\n",
        "    sqr_sum += X_center[i][j]**2\n",
        "print(sqr_sum**0.5/78400)\n",
        "# 2nd approach\n",
        "print((np.sum(X_center**2)**0.5)/78400)"
      ]
    },
    {
      "cell_type": "markdown",
      "metadata": {
        "id": "8UPKuD8uJCnE"
      },
      "source": [
        "## Problem-5\n",
        "\n",
        "Compute the covariance matrix $\\mathbf{C}$ of the centered dataset.\n",
        "\n",
        "<u>Conversion</u>\n",
        "\n",
        "Enter the following quantity as your answer correct to two decimal places:\n",
        "\n",
        "$$\n",
        "\\cfrac{1}{d^2} \\sqrt{\\sum \\limits_{i = 1}^{d} \\sum \\limits_{j = 1}^{d} C_{ij}^2}\n",
        "$$"
      ]
    },
    {
      "cell_type": "code",
      "execution_count": 9,
      "metadata": {
        "colab": {
          "base_uri": "https://localhost:8080/"
        },
        "id": "ZWT1bzBDlk2m",
        "outputId": "e1e11011-76ae-4c26-cf42-26bef263001d"
      },
      "outputs": [
        {
          "name": "stdout",
          "output_type": "stream",
          "text": [
            "(784, 784) (784, 784)\n",
            "1.3785920211345706\n",
            "1.3648061009232249\n"
          ]
        }
      ],
      "source": [
        "# Enter your solution here\n",
        "X = X_center\n",
        "C = np.cov(X.T) #using inbuilt method\n",
        "C2 = X.T@X/100 #using mathematical method\n",
        "print(C.shape,C2.shape)\n",
        "print((np.sum(C**2)**0.5)/784**2)\n",
        "print((np.sum(C2**2)**0.5)/784**2)"
      ]
    },
    {
      "cell_type": "markdown",
      "metadata": {
        "id": "FfJK8OiMr2mh"
      },
      "source": [
        "## Problem-6\n",
        "\n",
        "Compute the first and second principal components of the dataset, $\\mathbf{w}_1$ and $\\mathbf{w}_2$.\n",
        "\n",
        "<u>Conversion</u>\n",
        "\n",
        "Compute:\n",
        "$$\n",
        "\\mathbf{w} = \\mathbf{w}_1 + \\mathbf{w}_2\n",
        "$$\n",
        "\n",
        "Enter the following quantity as your answer correct to two decimal places:\n",
        "\n",
        "$$\n",
        "\\left| \\sum \\limits_{i = 1}^{d} w_i \\right|\n",
        "$$"
      ]
    },
    {
      "cell_type": "code",
      "execution_count": 10,
      "metadata": {
        "colab": {
          "base_uri": "https://localhost:8080/"
        },
        "id": "KgJ1FCa1tvZR",
        "outputId": "3496379f-2c62-43f8-c573-d73af6b3dc41"
      },
      "outputs": [
        {
          "name": "stdout",
          "output_type": "stream",
          "text": [
            "1.4142135623730951\n"
          ]
        },
        {
          "name": "stderr",
          "output_type": "stream",
          "text": [
            "/tmp/ipykernel_4458/3740935193.py:3: ComplexWarning: Casting complex values to real discards the imaginary part\n",
            "  eigval = eigval.astype(float)\n",
            "/tmp/ipykernel_4458/3740935193.py:4: ComplexWarning: Casting complex values to real discards the imaginary part\n",
            "  eigvec = eigvec.astype(float)\n"
          ]
        }
      ],
      "source": [
        "# Enter your solution here\n",
        "eigval,eigvec = np.linalg.eig(C2)\n",
        "eigval = eigval.astype(float)\n",
        "eigvec = eigvec.astype(float)\n",
        "print(np.linalg.norm(np.sum(eigvec[:2],axis=0)))"
      ]
    },
    {
      "cell_type": "markdown",
      "metadata": {
        "id": "9CBt_pmj-5pl"
      },
      "source": [
        "## Problem-7\n",
        "\n",
        "Visualize the first principal component as an image."
      ]
    },
    {
      "cell_type": "code",
      "execution_count": 11,
      "metadata": {
        "colab": {
          "base_uri": "https://localhost:8080/",
          "height": 265
        },
        "id": "KXiJLyT7_N29",
        "outputId": "c361f591-6159-4d85-f674-0654f1fb81c5"
      },
      "outputs": [
        {
          "data": {
            "text/plain": [
              "<matplotlib.image.AxesImage at 0x7fc98f63c510>"
            ]
          },
          "execution_count": 11,
          "metadata": {},
          "output_type": "execute_result"
        },
        {
          "data": {
            "image/png": "[encoded data removed]",
            "text/plain": [
              "<Figure size 640x480 with 1 Axes>"
            ]
          },
          "metadata": {},
          "output_type": "display_data"
        }
      ],
      "source": [
        "# plot the first PC\n",
        "plt.imshow(eigvec[:,0].reshape(28,28), cmap = plt.cm.binary)\n"
      ]
    },
    {
      "cell_type": "markdown",
      "metadata": {
        "id": "o37ie_mqxqhy"
      },
      "source": [
        "## Problem-8\n",
        "\n",
        "Find the smallest value of $k$ for which the first $k$ principal components capture at least $95\\%$ of the variance in the data."
      ]
    },
    {
      "cell_type": "code",
      "execution_count": 14,
      "metadata": {
        "id": "_JiPpEwCyvQK"
      },
      "outputs": [
        {
          "name": "stdout",
          "output_type": "stream",
          "text": [
            "53\n"
          ]
        }
      ],
      "source": [
        "# Enter your solution here\n",
        "def first_k_PC(eigonvalues,accuracy):\n",
        "  eigon_sum = eigonvalues.sum()\n",
        "  # print(eigon_sum)\n",
        "  k = 0\n",
        "  sum_till_k = 0\n",
        "  for ev in eigonvalues:\n",
        "    if sum_till_k/eigon_sum<=accuracy/100:\n",
        "      k+=1\n",
        "      sum_till_k+=ev\n",
        "      # print(k,sum_till_k)\n",
        "    else:\n",
        "      return k\n",
        "print(first_k_PC(eigval,95))"
      ]
    },
    {
      "cell_type": "markdown",
      "metadata": {
        "id": "5raTmu_s0Gpq"
      },
      "source": [
        "## Problem-9\n",
        "\n",
        "Given a `test_image`, visualize the proxies  by reconstructing it using the top $k$ principal components. Consider four values of $k$; values of $k$ for which the top-$k$ principal components explain:\n",
        "\n",
        "- 20% of the variance\n",
        "- 50% of the variance\n",
        "- 80% of the variance\n",
        "- 95% of the variance\n",
        "\n"
      ]
    },
    {
      "attachments": {},
      "cell_type": "markdown",
      "metadata": {
        "id": "a1FtWZJvM9Ln"
      },
      "source": [
        "## for 20% variance"
      ]
    },
    {
      "cell_type": "code",
      "execution_count": 19,
      "metadata": {
        "colab": {
          "base_uri": "https://localhost:8080/",
          "height": 265
        },
        "id": "hrMzMz9rNdKB",
        "outputId": "e4b6fc40-0fee-46d9-8679-ef9064d7d645"
      },
      "outputs": [
        {
          "data": {
            "image/png": "[encoded data removed]",
            "text/plain": [
              "<Figure size 640x480 with 1 Axes>"
            ]
          },
          "metadata": {},
          "output_type": "display_data"
        }
      ],
      "source": [
        "test_image = X_test[y_test == 2][0].reshape(28 * 28)\n",
        "# reconstruct the first test image using first k PCs with 20% variance\n",
        "k = first_k_PC(eigval,20) \n",
        "first_image = test_image - X_mean #centering the image\n",
        "first_image = first_image.reshape(1,784) #reshaping to 1*784\n",
        "# first_image.shape #checking the shape\n",
        "first_image = first_image@eigvec[:,:k] #projecting the image on first k eigenvectors - w1@x1 + w2@x2 + w3@x3 + ....\n",
        "first_image = first_image@eigvec[:,:k].T #reconstructing the image \n",
        "first_image = first_image + X_mean #centering the image\n",
        "first_image = first_image.reshape(28,28) #reshaping to 28*28\n",
        "plt.imshow(first_image, cmap = plt.cm.binary) #plotting the image\n",
        "plt.show() #showing the image"
      ]
    },
    {
      "attachments": {},
      "cell_type": "markdown",
      "metadata": {},
      "source": [
        "## for 50% variance"
      ]
    },
    {
      "cell_type": "code",
      "execution_count": 20,
      "metadata": {
        "colab": {
          "base_uri": "https://localhost:8080/",
          "height": 265
        },
        "id": "0eMK26q58sKp",
        "outputId": "08e57659-3494-47f3-b77b-5f98ffe934c5"
      },
      "outputs": [
        {
          "data": {
            "image/png": "[encoded data removed]",
            "text/plain": [
              "<Figure size 640x480 with 1 Axes>"
            ]
          },
          "metadata": {},
          "output_type": "display_data"
        }
      ],
      "source": [
        "#for 50% variance\n",
        "k = first_k_PC(eigval,50)\n",
        "# first_image = X_test[y_test == 2][0].reshape(28 * 28)\n",
        "first_image = test_image - X_mean\n",
        "first_image = first_image.reshape(1,784)\n",
        "first_image = first_image@eigvec[:,:k]\n",
        "first_image = first_image@eigvec[:,:k].T\n",
        "first_image = first_image + X_mean\n",
        "first_image = first_image.reshape(28,28)\n",
        "plt.imshow(first_image, cmap = plt.cm.binary)\n",
        "plt.show()\n"
      ]
    },
    {
      "attachments": {},
      "cell_type": "markdown",
      "metadata": {},
      "source": [
        "## for 80% variance"
      ]
    },
    {
      "cell_type": "code",
      "execution_count": 21,
      "metadata": {},
      "outputs": [
        {
          "data": {
            "image/png": "[encoded data removed]",
            "text/plain": [
              "<Figure size 640x480 with 1 Axes>"
            ]
          },
          "metadata": {},
          "output_type": "display_data"
        }
      ],
      "source": [
        "# for 80% variance\n",
        "k = first_k_PC(eigval,80)\n",
        "first_image = test_image - X_mean\n",
        "first_image = first_image.reshape(1,784)\n",
        "first_image = first_image@eigvec[:,:k]\n",
        "first_image = first_image@eigvec[:,:k].T\n",
        "first_image = first_image + X_mean\n",
        "first_image = first_image.reshape(28,28)\n",
        "plt.imshow(first_image, cmap = plt.cm.binary)\n",
        "plt.show()\n"
      ]
    },
    {
      "attachments": {},
      "cell_type": "markdown",
      "metadata": {},
      "source": [
        "## for 95% variance\n"
      ]
    },
    {
      "cell_type": "code",
      "execution_count": 22,
      "metadata": {},
      "outputs": [
        {
          "data": {
            "image/png": "[encoded data removed]",
            "text/plain": [
              "<Figure size 640x480 with 1 Axes>"
            ]
          },
          "metadata": {},
          "output_type": "display_data"
        }
      ],
      "source": [
        "## for 95% variance\n",
        "k = first_k_PC(eigval,95)\n",
        "first_image = test_image - X_mean\n",
        "first_image = first_image.reshape(1,784)\n",
        "first_image = first_image@eigvec[:,:k]\n",
        "first_image = first_image@eigvec[:,:k].T\n",
        "first_image = first_image + X_mean\n",
        "first_image = first_image.reshape(28,28)\n",
        "plt.imshow(first_image, cmap = plt.cm.binary)\n",
        "plt.show()"
      ]
    }
  ],
  "metadata": {
    "colab": {
      "include_colab_link": true,
      "provenance": []
    },
    "gpuClass": "standard",
    "kernelspec": {
      "display_name": "Python 3",
      "name": "python3"
    },
    "language_info": {
      "codemirror_mode": {
        "name": "ipython",
        "version": 3
      },
      "file_extension": ".py",
      "mimetype": "text/x-python",
      "name": "python",
      "nbconvert_exporter": "python",
      "pygments_lexer": "ipython3",
      "version": "3.11.2"
    }
  },
  "nbformat": 4,
  "nbformat_minor": 0
}

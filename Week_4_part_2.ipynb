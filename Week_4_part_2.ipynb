{
  "cells": [
    {
      "cell_type": "markdown",
      "metadata": {
        "id": "53TcQvUOjGxr"
      },
      "source": [
        "# Week-4: Part-2\n"
      ]
    },
    {
      "cell_type": "code",
      "execution_count": 2,
      "metadata": {
        "id": "FasmVZvHPgMW"
      },
      "outputs": [],
      "source": [
        "import numpy as np\n",
        "import matplotlib.pyplot as plt\n",
        "# Set size of figure\n",
        "plt.rcParams['figure.figsize'] = [8, 8]\n",
        "# Set size of font\n",
        "plt.rcParams['font.size'] = 10"
      ]
    },
    {
      "cell_type": "markdown",
      "metadata": {
        "id": "7A9Gri4ZP1oK"
      },
      "source": [
        "## GMM\n",
        "\n",
        "Now that we know how to sample from simple distributions like the Bernoulli and Gaussian, we shall move to sampling from a GMM. There are two steps here:\n",
        "\n",
        "- Pick a mixture $k$ from $K$ mixtures based on the categorical distribution governing it\n",
        "- Sample a point from the $k^{th}$ Gaussian"
      ]
    },
    {
      "cell_type": "markdown",
      "metadata": {
        "id": "1GlVAG9-8qFY"
      },
      "source": [
        "## Problem-1\n",
        "\n",
        "Consider a GMM with $K = 3$. The mixture probabilities are given below. It is easier to work with zero-indexing, hence we will index our mixtures starting from $0$:\n",
        "\n",
        "$$\n",
        "\\pi_0 = 0.3\\\\\n",
        "\\pi_1 = 0.5\\\\\n",
        "\\pi_2 = 0.2\n",
        "$$\n",
        "\n",
        "Perform step-1 of the sampling process by choosing one of the three mixtures based on the above distribution. Call this value $k$. Use the cell given below for all your computation. Do not change the seed value. Enter $k$ as your answer."
      ]
    },
    {
      "cell_type": "code",
      "execution_count": 3,
      "metadata": {
        "id": "aQqjseA3RYkB"
      },
      "outputs": [
        {
          "name": "stdout",
          "output_type": "stream",
          "text": [
            "[1]\n"
          ]
        }
      ],
      "source": [
        "### RNG ###\n",
        "rng = np.random.default_rng(seed = 1001)\n",
        "### Solution ###\n",
        "k = rng.choice([0,1,2],size=1, p=[0.3,0.5,0.2])\n",
        "print(k)"
      ]
    },
    {
      "cell_type": "markdown",
      "metadata": {
        "id": "4hd29e0n9mar"
      },
      "source": [
        "## Problem-2\n",
        "\n",
        "Now we move to step-2 of the sampling process. Sample a point from mixture $k$ (obtained from the previous question). The means and variances of the mixtures are as follows:\n",
        "\n",
        "$$\n",
        "\\mu_1 = -4, \\sigma_1^2 = 2\\\\\n",
        "\\mu_2 = 0, \\sigma_2^2 = 1\\\\\n",
        "\\mu_3 = 5, \\sigma_3^2 = 3\n",
        "$$\n",
        "\n",
        "\n",
        "Use the cell given below for all your computation. Enter the sampled point correct to three decimal places."
      ]
    },
    {
      "cell_type": "code",
      "execution_count": 14,
      "metadata": {
        "id": "D0TUgnKG91t2"
      },
      "outputs": [
        {
          "data": {
            "text/plain": [
              "array([0.93232244])"
            ]
          },
          "execution_count": 14,
          "metadata": {},
          "output_type": "execute_result"
        }
      ],
      "source": [
        "### RNG ###\n",
        "rng = np.random.default_rng(seed = 1001)\n",
        "### Solution ###\n",
        "#so we need to sample a point from the 2nd mixture\n",
        "rng.normal(0,1,size=1)\n"
      ]
    },
    {
      "cell_type": "markdown",
      "metadata": {
        "id": "7FnbGy4p-jeK"
      },
      "source": [
        "## Problem-3\n",
        "\n",
        "Now that we have sampled one point, we are ready to do more. Sample $100,000$ points from the GMM. Generate each point step by step. Store the samples in a NumPy array `X` of shape $(100,000, )$. `X[i]` should hold the value of the $i^{th}$ point generated from the GMM.  Use the cell below for all your computation. Enter the mean of `X` as your answer correct to three decimal places."
      ]
    },
    {
      "cell_type": "code",
      "execution_count": 20,
      "metadata": {
        "id": "XA8gv2jq-rTC"
      },
      "outputs": [
        {
          "name": "stdout",
          "output_type": "stream",
          "text": [
            "-0.1930762698848285 (100000,)\n"
          ]
        }
      ],
      "source": [
        "### RNG ###\n",
        "rng = np.random.default_rng(seed = 1001)\n",
        "### Solution ###\n",
        "X = np.empty(100_000)\n",
        "mu = np.array([-4,0,5])\n",
        "sigma = np.array([2,1,3])**0.5 \n",
        "for i in range(1000_00):\n",
        "    k = rng.choice([0,1,2],size=1,p=[0.3,0.5,0.2])\n",
        "    X[i] = rng.normal(mu[k],sigma[k],size=1)\n",
        "print(np.mean(X), X.shape)"
      ]
    },
    {
      "cell_type": "markdown",
      "metadata": {
        "id": "2heXmKhI_uXb"
      },
      "source": [
        "## Problem-4\n",
        "\n",
        "Plot a histogram of the dataset. Play around with the `bins` parameter of the `plt.hist` method. We will be using this dataset `X` all through the next section of the colab."
      ]
    },
    {
      "cell_type": "code",
      "execution_count": 23,
      "metadata": {
        "id": "lpor62HP_xPF"
      },
      "outputs": [
        {
          "data": {
            "image/png": "[encoded data removed]",
            "text/plain": [
              "<Figure size 800x800 with 1 Axes>"
            ]
          },
          "metadata": {},
          "output_type": "display_data"
        }
      ],
      "source": [
        "### Solution ###\n",
        "plt.hist(X,bins=1000)\n",
        "plt.show()"
      ]
    },
    {
      "cell_type": "markdown",
      "metadata": {
        "id": "t1VFwTY0ArhB"
      },
      "source": [
        "## EM algorithm\n",
        "\n",
        "It is time to start coding up the EM algorithm from scratch. We will break this down into five stages:\n",
        "\n",
        "- Initialization\n",
        "- E-step\n",
        "- M-step\n",
        "- Stopping criterion\n",
        "- Algorithm\n",
        "\n",
        "For each of the first four stages, we will write functions that are related to that stage. All these functions will be eventually used in the code for the EM algorithm. This is a modular approach to writing the code. We have identified four blocks or stages. We can independently work on these four blocks and finally combine them. If something goes wrong, we can quickly localize the problem to one of these four blocks.\n"
      ]
    },
    {
      "cell_type": "markdown",
      "metadata": {
        "id": "YuhQSnp0BChl"
      },
      "source": [
        "## Problem-5\n",
        "\n",
        "Write a function `init` that initializes the parameters of the GMM and returns `theta_0`, a NumPy array of shape $(3K, )$. The first $K$ elements of `theta_0` ($\\boldsymbol{\\theta}^{(0)}$) represents the means of the three mixtures, the next $K$ represent the variances and the last $K$ represent the mixture probabilities.\n",
        "\n",
        "The exact values to be used are as follows:\n",
        "\n",
        "- $\\mu_0 = 1, \\mu_1 = 2, \\mu_2 = 3$\n",
        "- $\\sigma_0^2 = \\sigma_1^2 = \\sigma_2^2 = 1$\n",
        "- $\\pi_0 = \\pi_1 = \\pi_2 = 1/3$ \n",
        "\n",
        "Enter $||\\boldsymbol{\\theta}^{(0)}||$ as your answer correct to two decimal places. Keep this variable `theta_0` as it will be used in subsequent problems."
      ]
    },
    {
      "cell_type": "code",
      "execution_count": 24,
      "metadata": {
        "id": "HKe2dspvIUgE"
      },
      "outputs": [
        {
          "name": "stdout",
          "output_type": "stream",
          "text": [
            "4.163331998932265\n"
          ]
        }
      ],
      "source": [
        "### Solution ###\n",
        "def init():\n",
        "    return np.array([1,2,3,1,1,1,1/3,1/3,1/3])\n",
        "theta_0 = init()\n",
        "print(np.linalg.norm(theta_0))"
      ]
    },
    {
      "cell_type": "markdown",
      "metadata": {
        "id": "EgsmXOKYJ76X"
      },
      "source": [
        "## Problem-6\n",
        "\n",
        "Write a function `estep` that accepts `theta` and `X` as arguments. It should perform the E-step and return an array `lamb` of shape `(n, K)`. The element `lamb[i][k]` is equal to $\\lambda_k^{i}$. For the purposes of evaluation, run the function on `theta_0` and `X`. Call the returned value `lamb_1`.  Compute the sum of the zeroth column of the matrix `lamb_1` and enter that as your answer correct to two decimal places. Keep this variable `lamb_1` as it will be used in subsequent problems.\n",
        "\n",
        "\n",
        "**Aside**: We prefer the variable name `lamb` over `lambda` for a reason. Can you guess why?"
      ]
    },
    {
      "attachments": {},
      "cell_type": "markdown",
      "metadata": {},
      "source": [
        "Probability of $x_i$ being from any mixture $k$ is equal to conditional probability of $z_i = k$ given the datapoint $x_i$\n",
        "$$\\lambda_k^i = P(\\ z_i = k | x_i )\\$$\n",
        "$$\\lambda_k^i = \\frac{P( z_i = k) . f( x_i | z_i = k )}{f(x_i)}$$\n",
        "$$\\lambda_k^i = \\frac{\\pi_k . f( x_i | z_i = k)}{f(x_i)}$$\n",
        "$$f(\\ x_i) = \\sum^{K}_{l=1}{\\pi_l . f(x_i| z_i =  l)}$$\n",
        "$$\\lambda_k^i = \\frac{\\pi_k . f( x_i | z_i = k)}{\\sum^{K}_{l=1}{\\pi_l . f(x_i| z_i =  l)}} $$"
      ]
    },
    {
      "cell_type": "code",
      "execution_count": 33,
      "metadata": {
        "id": "kKH7zNZ6IJsb"
      },
      "outputs": [
        {
          "data": {
            "text/plain": [
              "1.0"
            ]
          },
          "execution_count": 33,
          "metadata": {},
          "output_type": "execute_result"
        }
      ],
      "source": [
        "### Solution ###\n",
        "# def estep(theta,X):\n",
        "def gaussian(mu,sigma,x):\n",
        "    return (np.exp((-1 * (x-mu)**2)/(2*sigma**2)))/np.sqrt(2* np.pi)*sigma\n",
        "\n",
        "def estep(X,theta):\n",
        "    K = int(theta.shape[0]/3)\n",
        "    n = theta.shape[0]\n",
        "    mu = theta[:K]\n",
        "    sigma = theta[K:2*K]**0.5\n",
        "    pi = theta[2*K : 3*K]\n",
        "    lamb = np.empty((n,K))\n",
        "    for i in range(n):\n",
        "        evidence = sum([pi[k] * gaussian(mu[k],sigma[k],X[i]) for k in range(K)])\n",
        "        for k in range(K):\n",
        "            prior = pi[k]\n",
        "            likelihood = gaussian(mu[k],sigma[k],X[i] )\n",
        "            posterior = likelihood * prior/evidence\n",
        "            lamb[i][k] = posterior\n",
        "    return lamb\n",
        "\n",
        "lamb1 = estep(X,theta_0)\n",
        "np.sum(lamb1[0])\n",
        "\n",
        "\n",
        "    "
      ]
    },
    {
      "cell_type": "markdown",
      "metadata": {
        "id": "Fqnf831nLAlP"
      },
      "source": [
        "## Problem-7\n",
        "\n",
        "Write a function `mstep` that accepts `lamb` and `X` as arguments. It should perform the M-step and return a NumPy array `theta`, the updated parameters, namely. We follow the same convention for storing the parameters as was done during the init step. For the purposes of evaluation, compute the value of the function for `lamb_1` and `X`. Call the returned value `theta_1` ($\\boldsymbol{\\theta}^{(1)}$). Enter $||\\boldsymbol{\\theta}^{(1)}||$  as your answer correct to two decimal places."
      ]
    },
    {
      "cell_type": "code",
      "execution_count": 9,
      "metadata": {
        "id": "k9FSc2QiITDs"
      },
      "outputs": [],
      "source": [
        "### Solution ###\n",
        "def mstep(lamb,X):\n",
        "    n, K = lamb.shape\n",
        "    mu = np.empty(K)\n",
        "    sigma = np.empty(K)\n",
        "    pi = np.empty(K)\n",
        "    for k in range(K):\n",
        "        num,den = 0,0\n",
        "        for i in range(n):\n",
        "            num += X[i]*lamb[i][k]\n",
        "            den += lamb[i][k]                   \n",
        "        mu[k] = num/den\n",
        "        sigma[k] =     "
      ]
    },
    {
      "cell_type": "markdown",
      "metadata": {
        "id": "0SLzBm4fLRSK"
      },
      "source": [
        "## Problem-8\n",
        "\n",
        "Given two vectors $\\boldsymbol{\\theta}^{(t)}$ and $\\boldsymbol{\\theta}^{(t + 1)}$, write a function `distance` that accepts these two vectors as arguments and returns the distance between them:\n",
        "\n",
        "$$\n",
        "||\\boldsymbol{\\theta}^{(t + 1)} - \\boldsymbol{\\theta}^{(t)}||\n",
        "$$\n",
        "\n",
        "For the purposes of evaluation, compute the distance between $\\boldsymbol{\\theta}^{(0)}$ and $\\boldsymbol{\\theta}^{(1)}$ and report your answer correct to two decimal places."
      ]
    },
    {
      "cell_type": "code",
      "execution_count": 10,
      "metadata": {
        "id": "f-dyb9_4IVwI"
      },
      "outputs": [],
      "source": [
        "### Solution ###"
      ]
    },
    {
      "cell_type": "markdown",
      "metadata": {
        "id": "FFQwFcH6MELs"
      },
      "source": [
        "## Problem-9\n",
        "\n",
        "Perform the EM algorithm until convergence. The stopping-criterion is that the distance between the two parameter-vectors should be less than $0.01$.\n",
        "\n",
        "$$\n",
        "||\\boldsymbol{\\theta}^{(t + 1)} - \\boldsymbol{\\theta}^{(t)}|| < 0.01\n",
        "$$\n",
        "\n",
        "\n",
        "Initialize the parameters to $\\boldsymbol{\\theta}^{(0)}$. Find the number of iterations it takes for the algorithm to converge. Enter this as your answer. \n",
        "\n",
        "This is going to take some time. Hold tight!"
      ]
    },
    {
      "cell_type": "code",
      "execution_count": 11,
      "metadata": {
        "id": "lqRgxVx2IXMp"
      },
      "outputs": [],
      "source": [
        "### Solution ###"
      ]
    },
    {
      "cell_type": "markdown",
      "metadata": {
        "id": "zB33Rp_4awWp"
      },
      "source": [
        "## Problem-10\n",
        "\n",
        "Let us now verify the correctness of our algorithm. We know the true parameters here:\n",
        "\n",
        "$$\n",
        "\\boldsymbol{\\theta} = \\begin{bmatrix}\n",
        "-4\\\\\n",
        "0\\\\\n",
        "5\\\\\n",
        "2\\\\\n",
        "1\\\\\n",
        "3\\\\\n",
        "0.3\\\\\n",
        "0.5\\\\\n",
        "0.2\n",
        "\\end{bmatrix}\n",
        "$$\n",
        "\n",
        "Let $\\boldsymbol{\\theta}^{*}$ be the parameter at convergence. Compute the distance between this vector and the true parameter vector. Enter your answer correct to two decimal places. The smaller the distance, better our estimate."
      ]
    },
    {
      "cell_type": "code",
      "execution_count": 12,
      "metadata": {
        "id": "WdfWCxQVbvBy"
      },
      "outputs": [],
      "source": [
        "### Solution ###"
      ]
    },
    {
      "cell_type": "markdown",
      "metadata": {
        "id": "oD5eJxOBMfN-"
      },
      "source": [
        "## Problem-11\n",
        "\n",
        "We shall do a hard clustering of the data-points. Use the final `lamb` value obtained and cluster the points using:\n",
        "\n",
        "$$\n",
        "z_i = \\operatorname*{argmax} \\limits_{k} \\lambda_k^{i}\n",
        "$$\n",
        "\n",
        "Let $0$, $1$ and $2$ correspond to the colors red, blue and green respectively. Plot three colored histograms on the same figure, one for each cluster."
      ]
    },
    {
      "cell_type": "code",
      "execution_count": 13,
      "metadata": {
        "id": "NwRMqRTQgWbg"
      },
      "outputs": [],
      "source": [
        "### Solution ###"
      ]
    },
    {
      "cell_type": "markdown",
      "metadata": {
        "id": "mLYpnfPd-aHq"
      },
      "source": [
        "## Extras\n",
        "\n",
        "Here are some of the things that can be tried out:\n",
        "\n",
        "- Make the stopping criterion more stringent and see the effect it has on the number of iterations\n",
        "- Change the size of the dataset and study the effect it has on convergence.\n",
        "- Change the initialization and study the effect it has on convergence\n",
        "- Change the number of mixtures and see what happens"
      ]
    }
  ],
  "metadata": {
    "colab": {
      "provenance": []
    },
    "kernelspec": {
      "display_name": "Python 3",
      "name": "python3"
    },
    "language_info": {
      "codemirror_mode": {
        "name": "ipython",
        "version": 3
      },
      "file_extension": ".py",
      "mimetype": "text/x-python",
      "name": "python",
      "nbconvert_exporter": "python",
      "pygments_lexer": "ipython3",
      "version": "3.11.2"
    }
  },
  "nbformat": 4,
  "nbformat_minor": 0
}
